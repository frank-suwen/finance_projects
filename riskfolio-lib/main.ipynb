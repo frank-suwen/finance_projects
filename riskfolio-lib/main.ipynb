{
 "cells": [
  {
   "cell_type": "markdown",
   "metadata": {},
   "source": [
    "### Create a Stock Portfolio"
   ]
  },
  {
   "cell_type": "markdown",
   "metadata": {},
   "source": [
    "In just a few lines of code, I can easily collect stock data and create a portfolio"
   ]
  },
  {
   "cell_type": "code",
   "execution_count": 7,
   "metadata": {},
   "outputs": [
    {
     "name": "stdout",
     "output_type": "stream",
     "text": [
      "(CVXPY) May 26 12:57:08 AM: Encountered unexpected exception importing solver CVXOPT:\n",
      "ImportError(\"dlopen(/Users/wangsuwen/opt/anaconda3/envs/finance/lib/python3.12/site-packages/cvxopt/base.cpython-312-darwin.so, 0x0002): Library not loaded: @rpath/liblapack.3.dylib\\n  Referenced from: <42996129-43CF-3CE3-AEAF-6CE0B43F76A9> /Users/wangsuwen/opt/anaconda3/envs/finance/lib/python3.12/site-packages/cvxopt/base.cpython-312-darwin.so\\n  Reason: tried: '/Users/wangsuwen/opt/anaconda3/envs/finance/lib/python3.12/site-packages/cvxopt/../../../liblapack.3.dylib' (no such file), '/Users/wangsuwen/opt/anaconda3/envs/finance/lib/python3.12/site-packages/cvxopt/../../../liblapack.3.dylib' (no such file), '/Users/wangsuwen/opt/anaconda3/envs/finance/bin/../lib/liblapack.3.dylib' (no such file), '/Users/wangsuwen/opt/anaconda3/envs/finance/bin/../lib/liblapack.3.dylib' (no such file), '/usr/local/lib/liblapack.3.dylib' (no such file), '/usr/lib/liblapack.3.dylib' (no such file, not in dyld cache)\")\n",
      "(CVXPY) May 26 12:57:08 AM: Encountered unexpected exception importing solver GLPK:\n",
      "ImportError(\"dlopen(/Users/wangsuwen/opt/anaconda3/envs/finance/lib/python3.12/site-packages/cvxopt/base.cpython-312-darwin.so, 0x0002): Library not loaded: @rpath/liblapack.3.dylib\\n  Referenced from: <42996129-43CF-3CE3-AEAF-6CE0B43F76A9> /Users/wangsuwen/opt/anaconda3/envs/finance/lib/python3.12/site-packages/cvxopt/base.cpython-312-darwin.so\\n  Reason: tried: '/Users/wangsuwen/opt/anaconda3/envs/finance/lib/python3.12/site-packages/cvxopt/../../../liblapack.3.dylib' (no such file), '/Users/wangsuwen/opt/anaconda3/envs/finance/lib/python3.12/site-packages/cvxopt/../../../liblapack.3.dylib' (no such file), '/Users/wangsuwen/opt/anaconda3/envs/finance/bin/../lib/liblapack.3.dylib' (no such file), '/Users/wangsuwen/opt/anaconda3/envs/finance/bin/../lib/liblapack.3.dylib' (no such file), '/usr/local/lib/liblapack.3.dylib' (no such file), '/usr/lib/liblapack.3.dylib' (no such file, not in dyld cache)\")\n",
      "(CVXPY) May 26 12:57:08 AM: Encountered unexpected exception importing solver GLPK_MI:\n",
      "ImportError(\"dlopen(/Users/wangsuwen/opt/anaconda3/envs/finance/lib/python3.12/site-packages/cvxopt/base.cpython-312-darwin.so, 0x0002): Library not loaded: @rpath/liblapack.3.dylib\\n  Referenced from: <42996129-43CF-3CE3-AEAF-6CE0B43F76A9> /Users/wangsuwen/opt/anaconda3/envs/finance/lib/python3.12/site-packages/cvxopt/base.cpython-312-darwin.so\\n  Reason: tried: '/Users/wangsuwen/opt/anaconda3/envs/finance/lib/python3.12/site-packages/cvxopt/../../../liblapack.3.dylib' (no such file), '/Users/wangsuwen/opt/anaconda3/envs/finance/lib/python3.12/site-packages/cvxopt/../../../liblapack.3.dylib' (no such file), '/Users/wangsuwen/opt/anaconda3/envs/finance/bin/../lib/liblapack.3.dylib' (no such file), '/Users/wangsuwen/opt/anaconda3/envs/finance/bin/../lib/liblapack.3.dylib' (no such file), '/usr/local/lib/liblapack.3.dylib' (no such file), '/usr/lib/liblapack.3.dylib' (no such file, not in dyld cache)\")\n",
      "(CVXPY) May 26 12:57:08 AM: Encountered unexpected exception importing solver SCS:\n",
      "ImportError(\"dlopen(/Users/wangsuwen/opt/anaconda3/envs/finance/lib/python3.12/site-packages/_scs_direct.cpython-312-darwin.so, 0x0002): tried: '/Users/wangsuwen/opt/anaconda3/envs/finance/lib/python3.12/site-packages/_scs_direct.cpython-312-darwin.so' (mach-o file, but is an incompatible architecture (have 'x86_64', need 'arm64')), '/System/Volumes/Preboot/Cryptexes/OS/Users/wangsuwen/opt/anaconda3/envs/finance/lib/python3.12/site-packages/_scs_direct.cpython-312-darwin.so' (no such file), '/Users/wangsuwen/opt/anaconda3/envs/finance/lib/python3.12/site-packages/_scs_direct.cpython-312-darwin.so' (mach-o file, but is an incompatible architecture (have 'x86_64', need 'arm64'))\")\n"
     ]
    },
    {
     "name": "stderr",
     "output_type": "stream",
     "text": [
      "Matplotlib is building the font cache; this may take a moment.\n"
     ]
    }
   ],
   "source": [
    "import numpy as np\n",
    "import pandas as pd\n",
    "import yfinance as yf\n",
    "import riskfolio as rp"
   ]
  },
  {
   "cell_type": "code",
   "execution_count": 8,
   "metadata": {},
   "outputs": [],
   "source": [
    "# data range\n",
    "start = '2016-01-01'\n",
    "end = '2019-12-30'"
   ]
  },
  {
   "cell_type": "code",
   "execution_count": 9,
   "metadata": {},
   "outputs": [],
   "source": [
    "#tickers of assets\n",
    "assets = [\n",
    "    'JCI', 'TGT', 'CMCSA', 'CPB', 'MO', 'APA', 'MMC', 'JPM',\n",
    "    'ZION', 'PSA', 'BAX', 'BMY', 'LUV', 'PCAR', 'TXT', 'TMO',\n",
    "    'DE', 'MSFT', 'HPQ', 'SEE', 'VZ', 'CNP', 'NI', 'T', 'BA'\n",
    "]\n",
    "assets.sort()"
   ]
  },
  {
   "cell_type": "code",
   "execution_count": 11,
   "metadata": {},
   "outputs": [],
   "source": [
    "# tickers of factors\n",
    "factors = ['MTUM', 'QUAL', 'VLUE', 'SIZE', 'USMV']\n",
    "factors.sort()"
   ]
  },
  {
   "cell_type": "code",
   "execution_count": 12,
   "metadata": {},
   "outputs": [],
   "source": [
    "tickers = assets + factors\n",
    "tickers.sort()"
   ]
  },
  {
   "cell_type": "code",
   "execution_count": 13,
   "metadata": {},
   "outputs": [
    {
     "name": "stderr",
     "output_type": "stream",
     "text": [
      "[*********************100%%**********************]  30 of 30 completed\n"
     ]
    }
   ],
   "source": [
    "# download the data\n",
    "data = yf.download(tickers, start=start, end=end)\n",
    "data = data.loc[:, ('Adj Close', slice(None))]\n",
    "data.columns = tickers\n",
    "returns = data.pct_change().dropna()"
   ]
  },
  {
   "cell_type": "code",
   "execution_count": 15,
   "metadata": {},
   "outputs": [],
   "source": [
    "Y = returns[assets]"
   ]
  },
  {
   "cell_type": "code",
   "execution_count": 16,
   "metadata": {},
   "outputs": [],
   "source": [
    "X = returns[factors]"
   ]
  },
  {
   "cell_type": "code",
   "execution_count": 18,
   "metadata": {},
   "outputs": [],
   "source": [
    "# create the portfolio object\n",
    "port = rp.Portfolio(returns=Y)"
   ]
  },
  {
   "cell_type": "code",
   "execution_count": 20,
   "metadata": {},
   "outputs": [],
   "source": [
    "# display dataframes values in percentage format\n",
    "pd.options.display.float_format = '{:.4%}'.format"
   ]
  },
  {
   "cell_type": "code",
   "execution_count": 21,
   "metadata": {},
   "outputs": [],
   "source": [
    "# choose the risk measure\n",
    "rm = 'MSV' # semi standard deviation"
   ]
  },
  {
   "cell_type": "code",
   "execution_count": 22,
   "metadata": {},
   "outputs": [],
   "source": [
    "# estimate inputs of the model (historical estimates)\n",
    "method_mu = 'hist' # method to estimate expected returns based on historical data\n",
    "method_cov = 'hist' # method to estimate covariance matrix based on historical data"
   ]
  },
  {
   "cell_type": "code",
   "execution_count": 23,
   "metadata": {},
   "outputs": [],
   "source": [
    "port.assets_stats(method_mu=method_mu, method_cov=method_cov)"
   ]
  }
 ],
 "metadata": {
  "kernelspec": {
   "display_name": "Python 3",
   "language": "python",
   "name": "python3"
  },
  "language_info": {
   "codemirror_mode": {
    "name": "ipython",
    "version": 3
   },
   "file_extension": ".py",
   "mimetype": "text/x-python",
   "name": "python",
   "nbconvert_exporter": "python",
   "pygments_lexer": "ipython3",
   "version": "3.12.3"
  }
 },
 "nbformat": 4,
 "nbformat_minor": 2
}
